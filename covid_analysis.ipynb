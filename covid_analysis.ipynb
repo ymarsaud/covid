{
 "cells": [
  {
   "cell_type": "code",
   "execution_count": null,
   "metadata": {},
   "outputs": [],
   "source": [
    "import pandas as pd\n",
    "import matplotlib as mpl\n",
    "import matplotlib.pyplot as plt\n",
    "import plotly.express as px\n",
    "#import psutil\n",
    "from IPython.core.display import display, HTML, Markdown\n",
    "from slugify import slugify\n",
    "import ipywidgets as widgets\n",
    "from ipywidgets import interact, interact_manual\n",
    "%matplotlib inline"
   ]
  },
  {
   "cell_type": "markdown",
   "metadata": {},
   "source": [
    "# One more data analysis about the COVID-19, but normalized..."
   ]
  },
  {
   "cell_type": "markdown",
   "metadata": {},
   "source": [
    "## Table of contents\n",
    "\n",
    "- [Introduction](#Introduction)\n",
    "- [Global data](#Global-data)\n",
    "    * [Confirmed cases](#Confirmed-cases)\n",
    "    * [Death cases](#Death-cases)\n",
    "    * [Mortality rate](#Mortality-rate)\n",
    "    * [Recovered cases](#Recovered-cases)\n",
    "- [Report by country](#Report-by-country)\n",
    "\n",
    "## Introduction\n",
    "\n",
    "I coded this in order to follow figures about the COVID-19, for curiosity, without any goal else.\n",
    "\n",
    "It would be very useful and interesting to know :\n",
    "* the number of tests in each country (maybe the confirmed rate is underestimated) ;\n",
    "* the fiability of figures of death (countries may hide some death).\n",
    "\n",
    "I am not a data scientist, thanks for any tip you can give me to improve this code.\n",
    "\n",
    "Take care,\n",
    "\n",
    "Yann Marsaud\n",
    "\n",
    "### What is COVID-19 ?\n",
    "\n",
    "From the **World Health Organization** : https://www.who.int/news-room/q-a-detail/q-a-coronaviruses\n",
    "\n",
    "From the **Institut Pasteur** : https://www.pasteur.fr/en/medical-center/disease-sheets/covid-19-disease-novel-coronavirus\n",
    "\n",
    "### Sources"
   ]
  },
  {
   "cell_type": "code",
   "execution_count": null,
   "metadata": {},
   "outputs": [],
   "source": [
    "covid_source = \"CSSE at Johns Hopkins University\"\n",
    "display(Markdown('Cases data provided by {} (https://github.com/CSSEGISandData/COVID-19)'.format(covid_source)))\n",
    "display(Markdown(\"Global data (data/population.csv) from https://data.worldbank.org/indicator/SP.POP.TOTL\"))"
   ]
  },
  {
   "cell_type": "code",
   "execution_count": null,
   "metadata": {},
   "outputs": [],
   "source": [
    "## Functions to clean and prepare data\n",
    "######################################\n",
    "## returns a dataframe with the sum of cases for the country_str from the data source src_data\n",
    "## Country/Region is the new index of this dataframe (=country_str)\n",
    "def sum_cases(src_data,country_str):\n",
    "    multi = src_data[src_data[\"Country/Region\"] == country_str]\n",
    "    multi = multi.groupby(multi[\"Country/Region\"]).sum()\n",
    "    return multi\n",
    "\n",
    "## Returns a dataframe with the selected 'countries' and the 'countries_group' \n",
    " # (countries with more than one province) \n",
    " # Extra : prepares timeseries\n",
    " # Index of the returned dataframe : 'Country/Region'\n",
    "def prepare_data(data,countries,countries_group):\n",
    "    # Loads data from countries ignoring provinces\n",
    "    data_selected = data[data[\"Country/Region\"].isin(countries) & data[\"Province/State\"].isnull() ]\n",
    "    data_selected = data_selected.set_index('Country/Region')\n",
    "    # Agregates country with provinces in the final result\n",
    "    for c in countries_group:\n",
    "        data_selected = pd.concat([sum_cases(data,c),data_selected])\n",
    "    # deleting useless fields\n",
    "    data_selected = data_selected.drop([\"Province/State\",\"Lat\",\"Long\"],axis=1) \n",
    "    data_selected = data_selected.transpose()\n",
    "    data_selected.index = pd.to_datetime(data_selected.index)\n",
    "    data_selected = data_selected.transpose()\n",
    "    return data_selected\n",
    "\n",
    "## Returns data normalized to convert data per 10^n inhabitants and transposes it\n",
    "# data_selected's index is 'Country/Region'\n",
    "def normalize(data_selected,n):\n",
    "    data_norm = data_selected.copy()\n",
    "    # merge data with country names\n",
    "    data_norm = data_norm.join(population.set_index('Country/Region'))\n",
    "    data_norm[\"Population\"] = data_norm[\"Population\"] / 10**n\n",
    "    data_norm = data_norm.div(data_norm[\"Population\"],axis=0)\n",
    "    data_norm = data_norm.drop([\"Population\"],axis=1)\n",
    "    data_norm = data_norm.transpose()\n",
    "    data_norm = index_to_time(data_norm)\n",
    "    return data_norm\n",
    "\n",
    "def index_to_time(df,name='Date'):\n",
    "    df.index = pd.to_datetime(df.index)\n",
    "    df.index = df.index.rename(name)\n",
    "    return df\n",
    "\n",
    "# Deletes the first values while they equal 0\n",
    "def shift_to_first_case(df,country):\n",
    "    shift = df[country]\n",
    "    shift = shift.dropna(axis=0,how='all')\n",
    "    shift = shift[shift.values != 0  ]\n",
    "    shift = shift.reset_index()\n",
    "    shift = shift.drop([\"Date\"],axis=1)\n",
    "    return shift\n",
    "    \n",
    "## Prepares and plots with plotly a dataframe with timeseries for index\n",
    "# df : a dataframe\n",
    "# meta : contains 'title' and 'filename'\n",
    "def timeseries_with_plotly(df,meta):\n",
    "    df = df.reset_index()\n",
    "    if 'x' not in meta: meta['x'] = 'Date'\n",
    "    df = df.melt(id_vars=meta['x'],\n",
    "                 value_name=meta['y'],\n",
    "                 var_name=meta['series'])\n",
    "    title = meta['title']\n",
    "    w = 800\n",
    "    color_seq = px.colors.qualitative.Plotly\n",
    "    if 'subtitle' in meta: title += \"<br>\"+meta['subtitle']\n",
    "    if 'plot_type' in meta and meta['plot_type'] == 'bar':\n",
    "         fig = px.bar(df, x=meta['x'], y=meta['y'], \n",
    "                      color=meta['series'],title=title,width=w,\n",
    "                      color_discrete_sequence=color_seq,)\n",
    "    else: fig = px.line(df, x=meta['x'],y=meta['y'], \n",
    "                  color=meta['series'],title=title,width=w,\n",
    "                  color_discrete_sequence=color_seq,\n",
    "                  render_mode=\"svg\",)\n",
    "    fig.update_layout(autosize=True,annotations = [\n",
    "        dict(\n",
    "            x=1,\n",
    "            y=1.15,\n",
    "            xref=\"paper\",\n",
    "            yref=\"paper\",\n",
    "            text=add_source(),\n",
    "            showarrow=False,\n",
    "        )\n",
    "    ])\n",
    "    if not online: fig.write_image(\"report/\"+meta['filename']+\".svg\")\n",
    "    fig.show()\n",
    "\n",
    "def add_source():\n",
    "    return \"<i>Data source : {}<br>Data analysis by Y. Marsaud</i>\".format(covid_source)\n",
    "    \n",
    "# plot all countries from the first case\n",
    "def firstcase_compare_plot(df,case_type):\n",
    "    all_pays = sorted(pays + to_agregate)\n",
    "    from_first = shift_to_first_case(df,all_pays[0])\n",
    "\n",
    "    for country in all_pays[1:]:\n",
    "        other = shift_to_first_case(df,country)\n",
    "        from_first = from_first.merge(other,how='outer',left_on=from_first.index,right_on=other.index)\n",
    "        from_first = from_first.drop([\"key_0\"],axis=1)\n",
    "    meta = prepare_metadata(case_type)\n",
    "    meta['x'] = 'Day'\n",
    "    from_first.index = from_first.index.rename(meta['x'])\n",
    "    meta['subtitle'] = 'Comparison from Day 0 : the first case'\n",
    "    #ax = from_first.plot(title=title)\n",
    "    #ax.set_xlabel(\"Day\")\n",
    "    #ax.set_ylabel(\"Normalized value\")\n",
    "    timeseries_with_plotly(from_first,meta)\n",
    "    \n",
    "## returns an array with automatic title and automatic file name\n",
    "# title_type : one value amongst 'confirmed', 'recovered', 'death', 'mortality'\n",
    "# time : timestamp\n",
    "# Returns : an array with 'title', 'filename'\n",
    "def prepare_metadata(title_type):\n",
    "    norm_format =  'cases per '+'{:,}'.format(10**n)+' people'\n",
    "    if title_type in(['Confirmed','Recovered',\n",
    "                        'Active','Death']):\n",
    "        title = f\"{title_type} {norm_format}\"\n",
    "        y = 'Cases'\n",
    "        series = 'Country/Region'\n",
    "    elif title_type in(['Mortality','Recovery']):\n",
    "        title = f\"{title_type} rate (per 100 confirmed)\"\n",
    "        y = 'Cases (%)'\n",
    "        series = 'Country/Region'\n",
    "    else: title = \"\"\n",
    "    #updated = \"Last updated : \" + time.strftime(\"%Y/%m/%d\") \n",
    "    filename = \"covid19_\"+title_type+\"_\"+time.strftime(\"%Y_%m_%d\")\n",
    "    return {'title':title,'y':y,'series':series,'filename':filename}\n",
    "\n",
    "def meta_to_html(meta):\n",
    "    display(HTML(\"<h4>\"+meta['title']+\"</h4><h5>\"+meta['updated']+\"</h5>\"))\n",
    "    \n",
    "# Basis of normalization : per 10**n inhabitants\n",
    "n = 3\n",
    "# Path of imported data\n",
    "online = True\n",
    "def get_path():\n",
    "    if online: return 'https://raw.githubusercontent.com/CSSEGISandData/COVID-19/master/csse_covid_19_data/csse_covid_19_time_series/'\n",
    "    else: return '../data/COVID-19/csse_covid_19_data/csse_covid_19_time_series/'"
   ]
  },
  {
   "cell_type": "code",
   "execution_count": null,
   "metadata": {},
   "outputs": [],
   "source": [
    "## Geography\n",
    "############\n",
    "# importing data from population, updates data structure\n",
    "population = pd.read_csv(\"data/population.csv\",header=2)\n",
    "population = population[[\"Country Name\",\"2018\"]]\n",
    "population = population.rename(columns={\"2018\":\"Population\",\"Country Name\":\"Country/Region\"}) \n",
    "# compatibility of names of country\n",
    "population.at[249,'Country/Region']  = 'US' \n",
    "# selecting countries ignoring provinces\n",
    "pays = ['France','Argentina','Chile','Italy','US','Spain','United Kingdom','Germany','Brazil']\n",
    "# selecting countries with provinces\n",
    "to_agregate = ['Canada','China'] \n",
    "# filtering selected countries\n",
    "population = population[population[\"Country/Region\"].isin(pays) | population[\"Country/Region\"].isin(to_agregate)] \n",
    "#population.head()"
   ]
  },
  {
   "cell_type": "markdown",
   "metadata": {},
   "source": [
    "## Global data\n",
    "\n",
    "### Confirmed cases"
   ]
  },
  {
   "cell_type": "code",
   "execution_count": null,
   "metadata": {},
   "outputs": [],
   "source": [
    "data_confirmed = pd.read_csv(get_path()+\"time_series_covid19_confirmed_global.csv\")\n",
    "confirmed = prepare_data(data_confirmed,pays,to_agregate)\n",
    "#confirmed"
   ]
  },
  {
   "cell_type": "markdown",
   "metadata": {},
   "source": [
    "#### Raw number of cases"
   ]
  },
  {
   "cell_type": "code",
   "execution_count": null,
   "metadata": {},
   "outputs": [],
   "source": [
    "confirmed.transpose().tail(1)"
   ]
  },
  {
   "cell_type": "markdown",
   "metadata": {},
   "source": [
    "#### Normalization of cases for comparison"
   ]
  },
  {
   "cell_type": "code",
   "execution_count": null,
   "metadata": {},
   "outputs": [],
   "source": [
    "time = confirmed.columns[-1]\n",
    "meta = prepare_metadata('Confirmed')\n",
    "#meta_to_html(meta)\n",
    "confirmed_norm = normalize(confirmed,n)\n",
    "#confirmed_norm.plot(title=title)\n",
    "#plot_with_plotly(confirmed_norm,meta)\n",
    "timeseries_with_plotly(confirmed_norm,meta)\n",
    "firstcase_compare_plot(confirmed_norm,'Confirmed')"
   ]
  },
  {
   "cell_type": "markdown",
   "metadata": {},
   "source": [
    "### Death cases"
   ]
  },
  {
   "cell_type": "code",
   "execution_count": null,
   "metadata": {},
   "outputs": [],
   "source": [
    "data = pd.read_csv(get_path()+\"time_series_covid19_deaths_global.csv\")\n",
    "death = prepare_data(data,pays,to_agregate)"
   ]
  },
  {
   "cell_type": "markdown",
   "metadata": {},
   "source": [
    "#### Raw number of cases"
   ]
  },
  {
   "cell_type": "code",
   "execution_count": null,
   "metadata": {},
   "outputs": [],
   "source": [
    "death.transpose().tail(1)"
   ]
  },
  {
   "cell_type": "markdown",
   "metadata": {},
   "source": [
    "<!---\n",
    "### Normalization of cases for comparison\n",
    "-->"
   ]
  },
  {
   "cell_type": "code",
   "execution_count": null,
   "metadata": {},
   "outputs": [],
   "source": [
    "time = death.columns[-1]\n",
    "#meta = prepare_metadata('death',time)\n",
    "#meta_to_html(meta)\n",
    "death_norm = normalize(death,n) \n",
    "#death_norm.plot(title=title) "
   ]
  },
  {
   "cell_type": "markdown",
   "metadata": {},
   "source": [
    "#### Mortality rate\n",
    "This rate is death/confirmed, per 100 confirmed."
   ]
  },
  {
   "cell_type": "code",
   "execution_count": null,
   "metadata": {},
   "outputs": [],
   "source": [
    "death_rate =  death_norm / confirmed_norm * 100\n",
    "death_rate = index_to_time(death_rate)"
   ]
  },
  {
   "cell_type": "markdown",
   "metadata": {},
   "source": [
    "##### Last mortality rates"
   ]
  },
  {
   "cell_type": "code",
   "execution_count": null,
   "metadata": {},
   "outputs": [],
   "source": [
    "death_rate.tail(1)"
   ]
  },
  {
   "cell_type": "code",
   "execution_count": null,
   "metadata": {},
   "outputs": [],
   "source": [
    "time = death_rate.index[-1]\n",
    "meta = prepare_metadata('Mortality')\n",
    "#meta_to_html(meta)\n",
    "#death_rate.plot(title = title)\n",
    "#plot_with_plotly(death_rate,meta)\n",
    "timeseries_with_plotly(death_rate,meta)"
   ]
  },
  {
   "cell_type": "markdown",
   "metadata": {},
   "source": [
    "### Recovered cases"
   ]
  },
  {
   "cell_type": "code",
   "execution_count": null,
   "metadata": {},
   "outputs": [],
   "source": [
    "data_recovered = pd.read_csv(get_path()+\"time_series_covid19_recovered_global.csv\")\n",
    "recovered = prepare_data(data_recovered,pays,to_agregate)"
   ]
  },
  {
   "cell_type": "markdown",
   "metadata": {},
   "source": [
    "#### Raw number of cases"
   ]
  },
  {
   "cell_type": "code",
   "execution_count": null,
   "metadata": {},
   "outputs": [],
   "source": [
    "recovered.transpose().tail(1)"
   ]
  },
  {
   "cell_type": "markdown",
   "metadata": {},
   "source": [
    "#### Recovery rate\n",
    "This rate is recovered/confirmed, per 100 confirmed."
   ]
  },
  {
   "cell_type": "code",
   "execution_count": null,
   "metadata": {},
   "outputs": [],
   "source": [
    "recovered_norm = normalize(recovered,n) \n",
    "recov_rate = recovered_norm / confirmed_norm * 100\n",
    "recov_rate = index_to_time(recov_rate)\n",
    "meta = prepare_metadata('Recovery')\n",
    "#meta_to_html(meta)\n",
    "#recovered_norm.plot(title=title) \n",
    "#plot_with_plotly(recov_rate,meta)\n",
    "timeseries_with_plotly(recov_rate,meta)"
   ]
  },
  {
   "cell_type": "markdown",
   "metadata": {},
   "source": [
    "### Active cases\n",
    "Difference between confirmed cases and sum of death+recovered\n",
    "\n",
    "#### Raw number of cases"
   ]
  },
  {
   "cell_type": "code",
   "execution_count": null,
   "metadata": {},
   "outputs": [],
   "source": [
    "active = confirmed - (recovered+death)\n",
    "active.transpose().tail(1)"
   ]
  },
  {
   "cell_type": "markdown",
   "metadata": {},
   "source": [
    "#### Normalization of cases for comparison"
   ]
  },
  {
   "cell_type": "code",
   "execution_count": null,
   "metadata": {},
   "outputs": [],
   "source": [
    "meta = prepare_metadata('Active')\n",
    "#meta_to_html(meta)\n",
    "active_norm = normalize(active,n) \n",
    "#death_norm.plot(title=title) \n",
    "#plot_with_plotly(active_norm,meta)\n",
    "timeseries_with_plotly(active_norm,meta)\n",
    "firstcase_compare_plot(active_norm,'Active')"
   ]
  },
  {
   "cell_type": "markdown",
   "metadata": {},
   "source": [
    "## Report by country\n",
    "Please choose a country below :"
   ]
  },
  {
   "cell_type": "code",
   "execution_count": null,
   "metadata": {},
   "outputs": [],
   "source": [
    "@interact\n",
    "def analysis_by_country(country=sorted(pays+to_agregate)):\n",
    "    # Rolling average\n",
    "    # new cases last days\n",
    "    last = 14\n",
    "     # preparing data\n",
    "    last_mean = pd.merge(confirmed.T[country],death.T[country],on=death.T.index)\n",
    "    last_mean = last_mean.merge(recovered.T[country],left_on='key_0',right_on=recovered.T.index)\n",
    "    last_mean = last_mean.rename(columns={\"key_0\":\"Date\",\n",
    "                                          country+\"_x\":\"Confirmed\", \n",
    "                                          country+\"_y\":\"Death cases\",\n",
    "                                          country: \"Recovered\"})\n",
    "    last_mean = last_mean.set_index('Date')\n",
    "    meta = {'title':'Daily cases in {}'.format(country),\n",
    "            'subtitle':'Rolling {} days average'.format(last),\n",
    "        'series':'Type of case',\n",
    "            'y':'New cases'\n",
    "    }\n",
    "    last_mean = last_mean.diff().rolling(last).mean()\n",
    "    last_mean = last_mean.dropna(axis=0,how='all')\n",
    "    last_mean = last_mean[(last_mean.T !=  0).any()]\n",
    "    \n",
    "    # preparing data\n",
    "    rates_by_country = pd.merge(death_rate[country],recov_rate[country],on=death_rate.index)\n",
    "    rates_by_country = rates_by_country.rename(columns={\"key_0\":\"Date\",country+\"_x\":\"Mortality\", country+\"_y\":\"Recovery\"})\n",
    "    rates_by_country = rates_by_country.set_index('Date')\n",
    "    rates_by_country['Active'] = 100 -(rates_by_country['Mortality']+rates_by_country['Recovery'])\n",
    "    \n",
    "    # selecting rows with 1 or more cases\n",
    "    rates_by_country = rates_by_country.dropna(axis=0,how='all')\n",
    "    rates_by_country = rates_by_country[rates_by_country.values.sum(axis=1) != 0  ]\n",
    "    first_case = rates_by_country.head(1).index[0]\n",
    "    rates_by_country = rates_by_country[['Mortality','Active','Recovery']]\n",
    "    # general display\n",
    "    display(HTML('<h2>'+country+'</h2><hr>'))\n",
    "    gen_md = \"**First case** : \" + first_case.strftime(\"%Y/%m/%d\")+\"\\n\\n\"\n",
    "    gen_md += \"|Confirmed cases|Death cases|Recovered cases|Population|\\n\"\n",
    "    gen_md += \"|:---:|:---:|:---:|:---:|\\n\"\n",
    "    pop = '{:,}'.format(population.loc[population[\"Country/Region\"] == country,'Population'].iat[0])\n",
    "    gen_md += f\"|{confirmed.loc[country][-1]}|{death.loc[country][-1]}|{recovered.loc[country][-1]}|{pop}|\\n\\n\"\n",
    "    gen_md += \"*Last updated* : \"+confirmed.loc[country].index[-1].strftime(\"%Y/%m/%d\")\n",
    "    display(Markdown(gen_md))\n",
    "    timeseries_with_plotly(last_mean,meta)\n",
    "    # rates display\n",
    "    display(Markdown(\"### Rates (en % of confirmed)\"))\n",
    "    display(Markdown('#### Last rates'))\n",
    "    display(rates_by_country.tail(1))\n",
    "    \n",
    "    meta = {'title':'Time series of rates : '+country,\n",
    "           'y':'Cases per confirmed (%)',\n",
    "           'series':'Rate',\n",
    "           'filename':\"covid19_rates_by_country_{}\".format(slugify(country))}\n",
    "    timeseries_with_plotly(rates_by_country,meta)\n",
    "   \n",
    "    # distribution display\n",
    "    display(Markdown(\"### Distribution of cases (normalized)\"))\n",
    "    dist_by_country = pd.merge(death_norm[country],recovered_norm[country],on=death_norm.index)\n",
    "    dist_by_country = dist_by_country.merge(active_norm[country],left_on='key_0',right_on=active_norm.index)\n",
    "    dist_by_country = dist_by_country.rename(columns={country+\"_x\":\"Dead\", \n",
    "                                                      country+\"_y\":\"Recovered\",\n",
    "                                                     country:\"Active\",\n",
    "                                                     \"key_0\":\"Date\"})\n",
    "    dist_by_country = dist_by_country.set_index('Date')\n",
    "    \n",
    "    # selecting rows with 1 or more cases\n",
    "    dist_by_country = dist_by_country[dist_by_country.values.sum(axis=1) != 0  ]\n",
    "    dist_by_country = dist_by_country[['Dead','Active','Recovered']]\n",
    "    dist_by_country = dist_by_country.tail(21)\n",
    "    display(HTML('Last normalized distribution of cases in '+country+' per '+'{:,}'.format(10**n)+' people'))\n",
    "    display(dist_by_country.tail(1))\n",
    "    #df = dist_by_country.reset_index()\n",
    "    meta = {'title':'Distribution of cases in {}, last month'.format(country) ,\n",
    "           'y':'Cases per '+'{:,}'.format(10**n)+' people',\n",
    "           'series':'Type of case',\n",
    "             'plot_type':'bar',\n",
    "           'filename':\"covid19_distribution_by_country_{}\".format(slugify(country))}\n",
    "    timeseries_with_plotly(dist_by_country,meta)"
   ]
  },
  {
   "cell_type": "code",
   "execution_count": null,
   "metadata": {},
   "outputs": [],
   "source": []
  }
 ],
 "metadata": {
  "kernelspec": {
   "display_name": "Python 3",
   "language": "python",
   "name": "python3"
  },
  "language_info": {
   "codemirror_mode": {
    "name": "ipython",
    "version": 3
   },
   "file_extension": ".py",
   "mimetype": "text/x-python",
   "name": "python",
   "nbconvert_exporter": "python",
   "pygments_lexer": "ipython3",
   "version": "3.7.1"
  },
  "widgets": {
   "application/vnd.jupyter.widget-state+json": {
    "state": {},
    "version_major": 2,
    "version_minor": 0
   }
  }
 },
 "nbformat": 4,
 "nbformat_minor": 4
}
